{
 "metadata": {
  "name": ""
 },
 "nbformat": 3,
 "nbformat_minor": 0,
 "worksheets": [
  {
   "cells": [
    {
     "cell_type": "code",
     "collapsed": false,
     "input": [
      "import numpy as np\n",
      "import scipy as sp\n",
      "import pickle\n",
      "import pandas as pd\n",
      "from time import time\n",
      "from sklearn.feature_extraction.text import TfidfVectorizer\n",
      "from sklearn import decomposition\n",
      "import vincent # visualization\n",
      "vincent.core.initialize_notebook()\n"
     ],
     "language": "python",
     "metadata": {},
     "outputs": [
      {
       "javascript": [
        "\n",
        "    require.config({paths: {d3: \"http://d3js.org/d3.v3.min\"}});\n",
        "    require([\"d3\"], function(d3) {\n",
        "      window.d3 = d3;\n",
        "    });\n",
        "    "
       ],
       "metadata": {},
       "output_type": "display_data",
       "text": [
        "<IPython.core.display.Javascript at 0x1089c2810>"
       ]
      },
      {
       "javascript": [
        "$.getScript(\"http://d3js.org/d3.geo.projection.v0.min.js\", function() {\n",
        "        $.getScript(\"http://wrobstory.github.io/d3-cloud/d3.layout.cloud.js\", function() {\n",
        "            $.getScript(\"http://d3js.org/topojson.v1.min.js\", function() {\n",
        "                $.getScript(\"http://trifacta.github.com/vega/vega.js\", function() {\n",
        "                        $([IPython.events]).trigger(\"vega_loaded.vincent\");\n",
        "                })\n",
        "            })\n",
        "        })\n",
        "    });"
       ],
       "metadata": {},
       "output_type": "display_data",
       "text": [
        "<IPython.core.display.Javascript at 0x1089c2810>"
       ]
      }
     ],
     "prompt_number": 1
    },
    {
     "cell_type": "code",
     "collapsed": false,
     "input": [
      "data = pd.read_pickle(\"articles.pkl\")"
     ],
     "language": "python",
     "metadata": {},
     "outputs": [],
     "prompt_number": 2
    },
    {
     "cell_type": "code",
     "collapsed": false,
     "input": [
      "section_names = np.unique(np.array(data['section_name']))\n",
      "subset = data.groupby('section_name').apply(lambda x: x[:5])\n",
      "print subset.shape\n",
      "print section_names"
     ],
     "language": "python",
     "metadata": {},
     "outputs": [
      {
       "output_type": "stream",
       "stream": "stdout",
       "text": [
        "(36, 15)\n",
        "[u'Arts' u'Books' u'Business Day' u'Magazine' u'Opinion' u'Real Estate'\n",
        " u'Sports' u'Travel' u'U.S.' u'World']\n"
       ]
      }
     ],
     "prompt_number": 3
    },
    {
     "cell_type": "code",
     "collapsed": false,
     "input": [
      "def create_bag(df, vectorizer): \n",
      "    features = df['content']\n",
      "    bag_words = vectorizer.fit_transform(features)\n",
      "    print(\"done in %0.3fs.\" % (time() - time()))\n",
      "    return bag_words"
     ],
     "language": "python",
     "metadata": {},
     "outputs": [],
     "prompt_number": 4
    },
    {
     "cell_type": "code",
     "collapsed": false,
     "input": [
      "tf_vectorizer = TfidfVectorizer(min_df=2, strip_accents='unicode', max_features=5000, analyzer='word',token_pattern=r'\\w{1,}',ngram_range=(1, 2))"
     ],
     "language": "python",
     "metadata": {},
     "outputs": [],
     "prompt_number": 5
    },
    {
     "cell_type": "code",
     "collapsed": false,
     "input": [
      "bag = create_bag(data, tf_vectorizer)\n",
      "print bag.shape\n",
      "k = 7"
     ],
     "language": "python",
     "metadata": {},
     "outputs": [
      {
       "output_type": "stream",
       "stream": "stdout",
       "text": [
        "done in -0.000s.\n",
        "(1405, 5000)\n"
       ]
      }
     ],
     "prompt_number": 6
    },
    {
     "cell_type": "code",
     "collapsed": false,
     "input": [
      "def fit_nmf(k, bag):\n",
      "#     print(\"Fitting the NMF model on with n_samples=%d and n_features=%d...\" % (n_samples, n_features))\n",
      "    nmf = decomposition.NMF(n_components=k).fit(bag)\n",
      "    return nmf\n"
     ],
     "language": "python",
     "metadata": {},
     "outputs": [],
     "prompt_number": 7
    },
    {
     "cell_type": "code",
     "collapsed": false,
     "input": [
      "nmf = fit_nmf(k, bag.todense())"
     ],
     "language": "python",
     "metadata": {},
     "outputs": [],
     "prompt_number": 8
    },
    {
     "cell_type": "code",
     "collapsed": false,
     "input": [
      "feature_names = tf_vectorizer.get_feature_names() # words"
     ],
     "language": "python",
     "metadata": {},
     "outputs": [],
     "prompt_number": 9
    },
    {
     "cell_type": "code",
     "collapsed": false,
     "input": [
      "print nmf.components_[0]"
     ],
     "language": "python",
     "metadata": {},
     "outputs": [
      {
       "output_type": "stream",
       "stream": "stdout",
       "text": [
        "[ 0.          0.          0.         ...,  0.          0.00866914  0.        ]\n"
       ]
      }
     ],
     "prompt_number": 10
    },
    {
     "cell_type": "code",
     "collapsed": false,
     "input": [
      "val = nmf.components_\n",
      "print val.argsort()[::-1]\n",
      "#print feature_names[val.argsort()[-21]]\n"
     ],
     "language": "python",
     "metadata": {},
     "outputs": [
      {
       "output_type": "stream",
       "stream": "stdout",
       "text": [
        "[[2459 3806 3807 ...,  572 1012 3184]\n",
        " [   0 2696 2699 ..., 3208 3695 4955]\n",
        " [   0 2308 2302 ..., 4431 2836 3748]\n",
        " ..., \n",
        " [1996 2173 2171 ..., 3895 4379 1904]\n",
        " [   0 2623 2624 ..., 2959 3722 2330]\n",
        " [   0 2452 2453 ..., 2073 2151 3617]]\n"
       ]
      }
     ],
     "prompt_number": 11
    },
    {
     "cell_type": "code",
     "collapsed": false,
     "input": [
      "# nmf.compents is H transpose - words by k\n",
      "def top_vals(matrix, labels, num):\n",
      "    for idx, row in enumerate(matrix):    \n",
      "        print(\"Category #%d:\" % idx)\n",
      "        print(\"| \".join([labels[i] for i in row.argsort()[:-num-1:-1]]))\n",
      "        print()"
     ],
     "language": "python",
     "metadata": {},
     "outputs": [],
     "prompt_number": 12
    },
    {
     "cell_type": "code",
     "collapsed": false,
     "input": [
      "H = nmf.components_ # words by k\n",
      "W = nmf.transform(bag) # docs by k\n",
      "print W.shape, H.shape"
     ],
     "language": "python",
     "metadata": {},
     "outputs": [
      {
       "output_type": "stream",
       "stream": "stdout",
       "text": [
        " (1405, 7) (7, 5000)\n"
       ]
      }
     ],
     "prompt_number": 14
    },
    {
     "cell_type": "code",
     "collapsed": false,
     "input": [
      "print \"H\"\n",
      "print top_vals(H, feature_names, 3)\n",
      "print \"W\"\n",
      "print top_vals(W.T, data.headline, 3)"
     ],
     "language": "python",
     "metadata": {},
     "outputs": [
      {
       "output_type": "stream",
       "stream": "stdout",
       "text": [
        "H\n",
        "Category #0:\n",
        "republican| house| health\n",
        "()\n",
        "Category #1:\n",
        "iran| rouhani| nuclear\n",
        "()\n",
        "Category #2:\n",
        "game| team| season\n",
        "()\n",
        "Category #3:\n",
        "said| mr| attack\n",
        "()\n",
        "Category #4:\n",
        "s| mr| the\n",
        "()\n",
        "Category #5:\n",
        "yankee| rivera| pettitte\n",
        "()\n",
        "Category #6:\n",
        "percent| company| bank\n",
        "()\n",
        "None\n",
        "W\n",
        "Category #0:\n",
        "Obama Tells Republicans to \u2018Reopen the Government\u2019| Government Shuts Down in Budget Impasse| Conservatives With a Cause: \u2018We\u2019re Right\u2019\n",
        "()\n",
        "Category #1:\n",
        "As It Makes Overtures to Iran, U.S. Strives to Reassure Israel| Israeli Leader Excoriates New President of Iran| Netanyahu Pushes Back on Iran\n",
        "()\n",
        "Category #2:\n",
        "Favorites? Broncos, by a Wide Margin | Giants Are in Dire Spot, but You Wouldn\u2019t Know It by Talking to Them| In Game of Turnovers, Bengals Get Last One, and a Win\n",
        "()\n",
        "Category #3:\n",
        "Attention Switches to Investigation of Kenyan Mall Siege| A Deadly Week in Northwestern Pakistan Ends With a Car Bomb Blast| Kenya Presses Assault Against Militants in Mall Siege\n",
        "()\n",
        "Category #4:\n",
        "After 45 Years, Freedom Salted With Hindsight| A Composer, Not Easy to Peg, Is Heard Through Others| Like People You Know, Driven Yet Exhilarated\n",
        "()\n",
        "Category #5:\n",
        "The Sun Sets on Forever| Yankees\u2019 Costly Loss Puts a Damper on Rivera\u2019s Party| Closing Scene: Hugs and Tears in Rivera\u2019s Last Home Game\n",
        "()\n",
        "Category #6:\n",
        "European Unemployment Steady, Hinting at Progress in Crisis| Growth Forecast Is Trimmed for Developing Nations in Asia| Housing Recovery Seems Still on Track \n",
        "()\n",
        "None\n"
       ]
      }
     ],
     "prompt_number": 15
    },
    {
     "cell_type": "code",
     "collapsed": false,
     "input": [
      "print H[2].argsort()"
     ],
     "language": "python",
     "metadata": {},
     "outputs": [
      {
       "output_type": "stream",
       "stream": "stdout",
       "text": [
        "[1996 2173 2171 ..., 3895 4379 1904]\n"
       ]
      }
     ],
     "prompt_number": 48
    },
    {
     "cell_type": "code",
     "collapsed": false,
     "input": [
      "word_dict = {feature_names[idx]: H[2][idx]*100 for idx in H[2].argsort()[:-20:-1]}\n",
      "print word_dict"
     ],
     "language": "python",
     "metadata": {},
     "outputs": [
      {
       "output_type": "stream",
       "stream": "stdout",
       "text": [
        "{u'league': 25.452721357857637, u'play': 21.428858994338032, u'said': 28.393931088015606, u'yard': 35.18221547697388, u'giant': 20.856460016185213, u'player': 26.653629933200811, u'season': 47.622760091436817, u's': 35.507545645280267, u'first': 21.354822823479001, u'n': 24.857957008335546, u'1': 22.81596702126107, u'0': 27.674205276988634, u'game': 63.665864591383794, u'coach': 24.628692634400025, u'team': 52.565739978532697, u'touchdown': 24.983880878643834, u'he': 22.780190926122529, u'quarterback': 21.360630880363008, u'l': 24.285159112068762}\n"
       ]
      }
     ],
     "prompt_number": 50
    },
    {
     "cell_type": "code",
     "collapsed": false,
     "input": [
      "# sample = vincent.Word({'you':50, 'to':60})\n",
      "sample = vincent.Word(word_dict)\n",
      "sample.display();"
     ],
     "language": "python",
     "metadata": {},
     "outputs": [
      {
       "html": [
        "<div id=\"vis51345\"></div>"
       ],
       "metadata": {},
       "output_type": "display_data",
       "text": [
        "<IPython.core.display.HTML at 0x116610290>"
       ]
      },
      {
       "javascript": [
        "\n",
        "( function() {\n",
        "  var _do_plot = function() {\n",
        "    if ( typeof vg == 'undefined' ) {\n",
        "      $([IPython.events]).on(\"vega_loaded.vincent\", _do_plot);\n",
        "      return;\n",
        "    }\n",
        "    vg.parse.spec({\"axes\": [], \"data\": [{\"name\": \"table\", \"transform\": [{\"font\": \"Helvetica Neue\", \"fontSize\": \"data.val\", \"rotate\": {\"random\": [-90, -60, -30, 0, 30, 60]}, \"text\": \"data.idx\", \"type\": \"wordcloud\"}], \"values\": [{\"col\": \"data\", \"idx\": \"0\", \"val\": 27.674205276988634}, {\"col\": \"data\", \"idx\": \"1\", \"val\": 22.81596702126107}, {\"col\": \"data\", \"idx\": \"coach\", \"val\": 24.628692634400025}, {\"col\": \"data\", \"idx\": \"first\", \"val\": 21.354822823479001}, {\"col\": \"data\", \"idx\": \"game\", \"val\": 63.665864591383794}, {\"col\": \"data\", \"idx\": \"giant\", \"val\": 20.856460016185213}, {\"col\": \"data\", \"idx\": \"he\", \"val\": 22.780190926122529}, {\"col\": \"data\", \"idx\": \"l\", \"val\": 24.285159112068762}, {\"col\": \"data\", \"idx\": \"league\", \"val\": 25.452721357857637}, {\"col\": \"data\", \"idx\": \"n\", \"val\": 24.857957008335546}, {\"col\": \"data\", \"idx\": \"play\", \"val\": 21.428858994338032}, {\"col\": \"data\", \"idx\": \"player\", \"val\": 26.653629933200811}, {\"col\": \"data\", \"idx\": \"quarterback\", \"val\": 21.360630880363008}, {\"col\": \"data\", \"idx\": \"s\", \"val\": 35.507545645280267}, {\"col\": \"data\", \"idx\": \"said\", \"val\": 28.393931088015606}, {\"col\": \"data\", \"idx\": \"season\", \"val\": 47.622760091436817}, {\"col\": \"data\", \"idx\": \"team\", \"val\": 52.565739978532697}, {\"col\": \"data\", \"idx\": \"touchdown\", \"val\": 24.983880878643834}, {\"col\": \"data\", \"idx\": \"yard\", \"val\": 35.18221547697388}]}], \"height\": 500, \"legends\": [], \"marks\": [{\"from\": {\"data\": \"table\"}, \"properties\": {\"enter\": {\"align\": {\"value\": \"center\"}, \"angle\": {\"field\": \"angle\"}, \"baseline\": {\"value\": \"alphabetic\"}, \"fill\": {\"field\": \"data.idx\", \"scale\": \"color\"}, \"font\": {\"field\": \"font\"}, \"fontSize\": {\"field\": \"fontSize\"}, \"text\": {\"field\": \"data.idx\"}, \"x\": {\"field\": \"x\"}, \"y\": {\"field\": \"y\"}}}, \"type\": \"text\"}], \"name\": \"MATRIX\", \"padding\": \"auto\", \"scales\": [{\"domain\": {\"data\": \"table\", \"field\": \"data.idx\"}, \"name\": \"color\", \"range\": \"category10\", \"type\": \"ordinal\"}], \"width\": 960}, function(chart) {\n",
        "      chart({el: \"#vis51345\"}).update();\n",
        "    });\n",
        "  };\n",
        "  _do_plot();\n",
        "})();\n"
       ],
       "metadata": {},
       "output_type": "display_data",
       "text": [
        "<IPython.core.display.Javascript at 0x1166107d0>"
       ]
      }
     ],
     "prompt_number": 66
    },
    {
     "cell_type": "code",
     "collapsed": false,
     "input": [
      "def print_cloud(bag_words):\n",
      "    for i in range(bag_words.shape[0]):\n",
      "        word_dict = {feature_names[idx]: bag_words[i][idx]*100 for idx in bag_words[i].argsort()[:-20:-1]}\n",
      "        cloud = vincent.Word(word_dict)\n",
      "        print \"Cloud\", i\n",
      "        cloud.display()\n",
      "\n",
      "print_cloud(H);"
     ],
     "language": "python",
     "metadata": {},
     "outputs": [
      {
       "output_type": "stream",
       "stream": "stdout",
       "text": [
        "Cloud 0\n"
       ]
      },
      {
       "html": [
        "<div id=\"vis36806\"></div>"
       ],
       "metadata": {},
       "output_type": "display_data",
       "text": [
        "<IPython.core.display.HTML at 0x11661e690>"
       ]
      },
      {
       "javascript": [
        "\n",
        "( function() {\n",
        "  var _do_plot = function() {\n",
        "    if ( typeof vg == 'undefined' ) {\n",
        "      $([IPython.events]).on(\"vega_loaded.vincent\", _do_plot);\n",
        "      return;\n",
        "    }\n",
        "    vg.parse.spec({\"axes\": [], \"data\": [{\"name\": \"table\", \"transform\": [{\"font\": \"Helvetica Neue\", \"fontSize\": \"data.val\", \"rotate\": {\"random\": [-90, -60, -30, 0, 30, 60]}, \"text\": \"data.idx\", \"type\": \"wordcloud\"}], \"values\": [{\"col\": \"data\", \"idx\": \"bill\", \"val\": 27.405350366791385}, {\"col\": \"data\", \"idx\": \"care\", \"val\": 43.434036146802853}, {\"col\": \"data\", \"idx\": \"congress\", \"val\": 24.810002940025264}, {\"col\": \"data\", \"idx\": \"democrat\", \"val\": 28.557543014082338}, {\"col\": \"data\", \"idx\": \"government\", \"val\": 43.666194474472029}, {\"col\": \"data\", \"idx\": \"health\", \"val\": 50.547495788165364}, {\"col\": \"data\", \"idx\": \"health care\", \"val\": 34.766854545148107}, {\"col\": \"data\", \"idx\": \"house\", \"val\": 57.191563628253107}, {\"col\": \"data\", \"idx\": \"law\", \"val\": 37.233214915616678}, {\"col\": \"data\", \"idx\": \"mr\", \"val\": 34.024849420323164}, {\"col\": \"data\", \"idx\": \"mr obama\", \"val\": 24.460944714318739}, {\"col\": \"data\", \"idx\": \"obama\", \"val\": 35.604500336557606}, {\"col\": \"data\", \"idx\": \"party\", \"val\": 37.584221804767502}, {\"col\": \"data\", \"idx\": \"republican\", \"val\": 104.95201131131242}, {\"col\": \"data\", \"idx\": \"senate\", \"val\": 38.871270660143296}, {\"col\": \"data\", \"idx\": \"senator\", \"val\": 24.583790824199326}, {\"col\": \"data\", \"idx\": \"shutdown\", \"val\": 35.100574515249065}, {\"col\": \"data\", \"idx\": \"vote\", \"val\": 27.044751492928913}, {\"col\": \"data\", \"idx\": \"would\", \"val\": 27.575293694506559}]}], \"height\": 500, \"legends\": [], \"marks\": [{\"from\": {\"data\": \"table\"}, \"properties\": {\"enter\": {\"align\": {\"value\": \"center\"}, \"angle\": {\"field\": \"angle\"}, \"baseline\": {\"value\": \"alphabetic\"}, \"fill\": {\"field\": \"data.idx\", \"scale\": \"color\"}, \"font\": {\"field\": \"font\"}, \"fontSize\": {\"field\": \"fontSize\"}, \"text\": {\"field\": \"data.idx\"}, \"x\": {\"field\": \"x\"}, \"y\": {\"field\": \"y\"}}}, \"type\": \"text\"}], \"padding\": \"auto\", \"scales\": [{\"domain\": {\"data\": \"table\", \"field\": \"data.idx\"}, \"name\": \"color\", \"range\": \"category10\", \"type\": \"ordinal\"}], \"width\": 960}, function(chart) {\n",
        "      chart({el: \"#vis36806\"}).update();\n",
        "    });\n",
        "  };\n",
        "  _do_plot();\n",
        "})();\n"
       ],
       "metadata": {},
       "output_type": "display_data",
       "text": [
        "<IPython.core.display.Javascript at 0x11661e710>"
       ]
      },
      {
       "output_type": "stream",
       "stream": "stdout",
       "text": [
        "Cloud 1\n"
       ]
      },
      {
       "html": [
        "<div id=\"vis48851\"></div>"
       ],
       "metadata": {},
       "output_type": "display_data",
       "text": [
        "<IPython.core.display.HTML at 0x11661e210>"
       ]
      },
      {
       "javascript": [
        "\n",
        "( function() {\n",
        "  var _do_plot = function() {\n",
        "    if ( typeof vg == 'undefined' ) {\n",
        "      $([IPython.events]).on(\"vega_loaded.vincent\", _do_plot);\n",
        "      return;\n",
        "    }\n",
        "    vg.parse.spec({\"axes\": [], \"data\": [{\"name\": \"table\", \"transform\": [{\"font\": \"Helvetica Neue\", \"fontSize\": \"data.val\", \"rotate\": {\"random\": [-90, -60, -30, 0, 30, 60]}, \"text\": \"data.idx\", \"type\": \"wordcloud\"}], \"values\": [{\"col\": \"data\", \"idx\": \"iran\", \"val\": 101.10975824531745}, {\"col\": \"data\", \"idx\": \"iran s\", \"val\": 35.294468822882905}, {\"col\": \"data\", \"idx\": \"iranian\", \"val\": 42.47751571126588}, {\"col\": \"data\", \"idx\": \"israel\", \"val\": 29.432896008323343}, {\"col\": \"data\", \"idx\": \"mr\", \"val\": 46.54693405514319}, {\"col\": \"data\", \"idx\": \"mr obama\", \"val\": 22.991156074820399}, {\"col\": \"data\", \"idx\": \"mr rouhani\", \"val\": 46.587403332408975}, {\"col\": \"data\", \"idx\": \"nation\", \"val\": 16.91971642516199}, {\"col\": \"data\", \"idx\": \"netanyahu\", \"val\": 24.997758543404906}, {\"col\": \"data\", \"idx\": \"nuclear\", \"val\": 49.021244609100712}, {\"col\": \"data\", \"idx\": \"nuclear program\", \"val\": 15.643102050439678}, {\"col\": \"data\", \"idx\": \"obama\", \"val\": 29.779212857829062}, {\"col\": \"data\", \"idx\": \"president\", \"val\": 21.084249406232356}, {\"col\": \"data\", \"idx\": \"rouhani\", \"val\": 65.03045392013928}, {\"col\": \"data\", \"idx\": \"s\", \"val\": 26.461814668748907}, {\"col\": \"data\", \"idx\": \"united\", \"val\": 26.700262326291231}, {\"col\": \"data\", \"idx\": \"united nation\", \"val\": 18.453774317845127}, {\"col\": \"data\", \"idx\": \"united state\", \"val\": 15.507880758795748}, {\"col\": \"data\", \"idx\": \"weapon\", \"val\": 15.087745470067155}]}], \"height\": 500, \"legends\": [], \"marks\": [{\"from\": {\"data\": \"table\"}, \"properties\": {\"enter\": {\"align\": {\"value\": \"center\"}, \"angle\": {\"field\": \"angle\"}, \"baseline\": {\"value\": \"alphabetic\"}, \"fill\": {\"field\": \"data.idx\", \"scale\": \"color\"}, \"font\": {\"field\": \"font\"}, \"fontSize\": {\"field\": \"fontSize\"}, \"text\": {\"field\": \"data.idx\"}, \"x\": {\"field\": \"x\"}, \"y\": {\"field\": \"y\"}}}, \"type\": \"text\"}], \"padding\": \"auto\", \"scales\": [{\"domain\": {\"data\": \"table\", \"field\": \"data.idx\"}, \"name\": \"color\", \"range\": \"category10\", \"type\": \"ordinal\"}], \"width\": 960}, function(chart) {\n",
        "      chart({el: \"#vis48851\"}).update();\n",
        "    });\n",
        "  };\n",
        "  _do_plot();\n",
        "})();\n"
       ],
       "metadata": {},
       "output_type": "display_data",
       "text": [
        "<IPython.core.display.Javascript at 0x11661e610>"
       ]
      },
      {
       "output_type": "stream",
       "stream": "stdout",
       "text": [
        "Cloud 2\n"
       ]
      },
      {
       "html": [
        "<div id=\"vis39118\"></div>"
       ],
       "metadata": {},
       "output_type": "display_data",
       "text": [
        "<IPython.core.display.HTML at 0x11661e710>"
       ]
      },
      {
       "javascript": [
        "\n",
        "( function() {\n",
        "  var _do_plot = function() {\n",
        "    if ( typeof vg == 'undefined' ) {\n",
        "      $([IPython.events]).on(\"vega_loaded.vincent\", _do_plot);\n",
        "      return;\n",
        "    }\n",
        "    vg.parse.spec({\"axes\": [], \"data\": [{\"name\": \"table\", \"transform\": [{\"font\": \"Helvetica Neue\", \"fontSize\": \"data.val\", \"rotate\": {\"random\": [-90, -60, -30, 0, 30, 60]}, \"text\": \"data.idx\", \"type\": \"wordcloud\"}], \"values\": [{\"col\": \"data\", \"idx\": \"0\", \"val\": 27.674205276988634}, {\"col\": \"data\", \"idx\": \"1\", \"val\": 22.81596702126107}, {\"col\": \"data\", \"idx\": \"coach\", \"val\": 24.628692634400025}, {\"col\": \"data\", \"idx\": \"first\", \"val\": 21.354822823479001}, {\"col\": \"data\", \"idx\": \"game\", \"val\": 63.665864591383794}, {\"col\": \"data\", \"idx\": \"giant\", \"val\": 20.856460016185213}, {\"col\": \"data\", \"idx\": \"he\", \"val\": 22.780190926122529}, {\"col\": \"data\", \"idx\": \"l\", \"val\": 24.285159112068762}, {\"col\": \"data\", \"idx\": \"league\", \"val\": 25.452721357857637}, {\"col\": \"data\", \"idx\": \"n\", \"val\": 24.857957008335546}, {\"col\": \"data\", \"idx\": \"play\", \"val\": 21.428858994338032}, {\"col\": \"data\", \"idx\": \"player\", \"val\": 26.653629933200811}, {\"col\": \"data\", \"idx\": \"quarterback\", \"val\": 21.360630880363008}, {\"col\": \"data\", \"idx\": \"s\", \"val\": 35.507545645280267}, {\"col\": \"data\", \"idx\": \"said\", \"val\": 28.393931088015606}, {\"col\": \"data\", \"idx\": \"season\", \"val\": 47.622760091436817}, {\"col\": \"data\", \"idx\": \"team\", \"val\": 52.565739978532697}, {\"col\": \"data\", \"idx\": \"touchdown\", \"val\": 24.983880878643834}, {\"col\": \"data\", \"idx\": \"yard\", \"val\": 35.18221547697388}]}], \"height\": 500, \"legends\": [], \"marks\": [{\"from\": {\"data\": \"table\"}, \"properties\": {\"enter\": {\"align\": {\"value\": \"center\"}, \"angle\": {\"field\": \"angle\"}, \"baseline\": {\"value\": \"alphabetic\"}, \"fill\": {\"field\": \"data.idx\", \"scale\": \"color\"}, \"font\": {\"field\": \"font\"}, \"fontSize\": {\"field\": \"fontSize\"}, \"text\": {\"field\": \"data.idx\"}, \"x\": {\"field\": \"x\"}, \"y\": {\"field\": \"y\"}}}, \"type\": \"text\"}], \"padding\": \"auto\", \"scales\": [{\"domain\": {\"data\": \"table\", \"field\": \"data.idx\"}, \"name\": \"color\", \"range\": \"category10\", \"type\": \"ordinal\"}], \"width\": 960}, function(chart) {\n",
        "      chart({el: \"#vis39118\"}).update();\n",
        "    });\n",
        "  };\n",
        "  _do_plot();\n",
        "})();\n"
       ],
       "metadata": {},
       "output_type": "display_data",
       "text": [
        "<IPython.core.display.Javascript at 0x11661e9d0>"
       ]
      },
      {
       "output_type": "stream",
       "stream": "stdout",
       "text": [
        "Cloud 3\n"
       ]
      },
      {
       "html": [
        "<div id=\"vis27186\"></div>"
       ],
       "metadata": {},
       "output_type": "display_data",
       "text": [
        "<IPython.core.display.HTML at 0x11661e210>"
       ]
      },
      {
       "javascript": [
        "\n",
        "( function() {\n",
        "  var _do_plot = function() {\n",
        "    if ( typeof vg == 'undefined' ) {\n",
        "      $([IPython.events]).on(\"vega_loaded.vincent\", _do_plot);\n",
        "      return;\n",
        "    }\n",
        "    vg.parse.spec({\"axes\": [], \"data\": [{\"name\": \"table\", \"transform\": [{\"font\": \"Helvetica Neue\", \"fontSize\": \"data.val\", \"rotate\": {\"random\": [-90, -60, -30, 0, 30, 60]}, \"text\": \"data.idx\", \"type\": \"wordcloud\"}], \"values\": [{\"col\": \"data\", \"idx\": \"attack\", \"val\": 37.278893009025801}, {\"col\": \"data\", \"idx\": \"court\", \"val\": 22.7643815827422}, {\"col\": \"data\", \"idx\": \"government\", \"val\": 27.702750385567281}, {\"col\": \"data\", \"idx\": \"group\", \"val\": 21.412442832502805}, {\"col\": \"data\", \"idx\": \"killed\", \"val\": 23.412882142991773}, {\"col\": \"data\", \"idx\": \"militant\", \"val\": 17.704811780863604}, {\"col\": \"data\", \"idx\": \"military\", \"val\": 21.773049451890479}, {\"col\": \"data\", \"idx\": \"mr\", \"val\": 44.849807970098844}, {\"col\": \"data\", \"idx\": \"official\", \"val\": 31.503742530810257}, {\"col\": \"data\", \"idx\": \"people\", \"val\": 22.919731941392918}, {\"col\": \"data\", \"idx\": \"police\", \"val\": 25.918127498723482}, {\"col\": \"data\", \"idx\": \"s\", \"val\": 27.274576022772134}, {\"col\": \"data\", \"idx\": \"said\", \"val\": 56.061584737008104}, {\"col\": \"data\", \"idx\": \"security\", \"val\": 21.566818466458628}, {\"col\": \"data\", \"idx\": \"state\", \"val\": 21.537540610628618}, {\"col\": \"data\", \"idx\": \"syria\", \"val\": 24.075448955022324}, {\"col\": \"data\", \"idx\": \"the\", \"val\": 30.582506546172965}, {\"col\": \"data\", \"idx\": \"united\", \"val\": 20.926599022674896}, {\"col\": \"data\", \"idx\": \"war\", \"val\": 17.922278520374391}]}], \"height\": 500, \"legends\": [], \"marks\": [{\"from\": {\"data\": \"table\"}, \"properties\": {\"enter\": {\"align\": {\"value\": \"center\"}, \"angle\": {\"field\": \"angle\"}, \"baseline\": {\"value\": \"alphabetic\"}, \"fill\": {\"field\": \"data.idx\", \"scale\": \"color\"}, \"font\": {\"field\": \"font\"}, \"fontSize\": {\"field\": \"fontSize\"}, \"text\": {\"field\": \"data.idx\"}, \"x\": {\"field\": \"x\"}, \"y\": {\"field\": \"y\"}}}, \"type\": \"text\"}], \"padding\": \"auto\", \"scales\": [{\"domain\": {\"data\": \"table\", \"field\": \"data.idx\"}, \"name\": \"color\", \"range\": \"category10\", \"type\": \"ordinal\"}], \"width\": 960}, function(chart) {\n",
        "      chart({el: \"#vis27186\"}).update();\n",
        "    });\n",
        "  };\n",
        "  _do_plot();\n",
        "})();\n"
       ],
       "metadata": {},
       "output_type": "display_data",
       "text": [
        "<IPython.core.display.Javascript at 0x11661e250>"
       ]
      },
      {
       "output_type": "stream",
       "stream": "stdout",
       "text": [
        "Cloud 4\n"
       ]
      },
      {
       "html": [
        "<div id=\"vis51648\"></div>"
       ],
       "metadata": {},
       "output_type": "display_data",
       "text": [
        "<IPython.core.display.HTML at 0x11661e9d0>"
       ]
      },
      {
       "javascript": [
        "\n",
        "( function() {\n",
        "  var _do_plot = function() {\n",
        "    if ( typeof vg == 'undefined' ) {\n",
        "      $([IPython.events]).on(\"vega_loaded.vincent\", _do_plot);\n",
        "      return;\n",
        "    }\n",
        "    vg.parse.spec({\"axes\": [], \"data\": [{\"name\": \"table\", \"transform\": [{\"font\": \"Helvetica Neue\", \"fontSize\": \"data.val\", \"rotate\": {\"random\": [-90, -60, -30, 0, 30, 60]}, \"text\": \"data.idx\", \"type\": \"wordcloud\"}], \"values\": [{\"col\": \"data\", \"idx\": \"and\", \"val\": 16.183923851849379}, {\"col\": \"data\", \"idx\": \"art\", \"val\": 22.437493472953939}, {\"col\": \"data\", \"idx\": \"he\", \"val\": 17.525730714617431}, {\"col\": \"data\", \"idx\": \"i\", \"val\": 21.45909444668079}, {\"col\": \"data\", \"idx\": \"it\", \"val\": 25.095306276521445}, {\"col\": \"data\", \"idx\": \"it s\", \"val\": 18.569088115391015}, {\"col\": \"data\", \"idx\": \"like\", \"val\": 23.911463156410122}, {\"col\": \"data\", \"idx\": \"m\", \"val\": 20.029320029431169}, {\"col\": \"data\", \"idx\": \"mr\", \"val\": 44.294720690725136}, {\"col\": \"data\", \"idx\": \"ms\", \"val\": 28.237902193741434}, {\"col\": \"data\", \"idx\": \"music\", \"val\": 23.385806509661549}, {\"col\": \"data\", \"idx\": \"new\", \"val\": 24.615147547544574}, {\"col\": \"data\", \"idx\": \"one\", \"val\": 21.619347108961719}, {\"col\": \"data\", \"idx\": \"s\", \"val\": 65.323267424761482}, {\"col\": \"data\", \"idx\": \"said\", \"val\": 18.297916161527013}, {\"col\": \"data\", \"idx\": \"show\", \"val\": 22.644511767261875}, {\"col\": \"data\", \"idx\": \"t\", \"val\": 24.487408265111611}, {\"col\": \"data\", \"idx\": \"the\", \"val\": 35.119180795598048}, {\"col\": \"data\", \"idx\": \"work\", \"val\": 23.158300912712306}]}], \"height\": 500, \"legends\": [], \"marks\": [{\"from\": {\"data\": \"table\"}, \"properties\": {\"enter\": {\"align\": {\"value\": \"center\"}, \"angle\": {\"field\": \"angle\"}, \"baseline\": {\"value\": \"alphabetic\"}, \"fill\": {\"field\": \"data.idx\", \"scale\": \"color\"}, \"font\": {\"field\": \"font\"}, \"fontSize\": {\"field\": \"fontSize\"}, \"text\": {\"field\": \"data.idx\"}, \"x\": {\"field\": \"x\"}, \"y\": {\"field\": \"y\"}}}, \"type\": \"text\"}], \"padding\": \"auto\", \"scales\": [{\"domain\": {\"data\": \"table\", \"field\": \"data.idx\"}, \"name\": \"color\", \"range\": \"category10\", \"type\": \"ordinal\"}], \"width\": 960}, function(chart) {\n",
        "      chart({el: \"#vis51648\"}).update();\n",
        "    });\n",
        "  };\n",
        "  _do_plot();\n",
        "})();\n"
       ],
       "metadata": {},
       "output_type": "display_data",
       "text": [
        "<IPython.core.display.Javascript at 0x11661e690>"
       ]
      },
      {
       "output_type": "stream",
       "stream": "stdout",
       "text": [
        "Cloud 5\n"
       ]
      },
      {
       "html": [
        "<div id=\"vis13423\"></div>"
       ],
       "metadata": {},
       "output_type": "display_data",
       "text": [
        "<IPython.core.display.HTML at 0x11661e210>"
       ]
      },
      {
       "javascript": [
        "\n",
        "( function() {\n",
        "  var _do_plot = function() {\n",
        "    if ( typeof vg == 'undefined' ) {\n",
        "      $([IPython.events]).on(\"vega_loaded.vincent\", _do_plot);\n",
        "      return;\n",
        "    }\n",
        "    vg.parse.spec({\"axes\": [], \"data\": [{\"name\": \"table\", \"transform\": [{\"font\": \"Helvetica Neue\", \"fontSize\": \"data.val\", \"rotate\": {\"random\": [-90, -60, -30, 0, 30, 60]}, \"text\": \"data.idx\", \"type\": \"wordcloud\"}], \"values\": [{\"col\": \"data\", \"idx\": \"baseball\", \"val\": 18.899469688303185}, {\"col\": \"data\", \"idx\": \"game\", \"val\": 33.562842731013568}, {\"col\": \"data\", \"idx\": \"girardi\", \"val\": 22.227066764170587}, {\"col\": \"data\", \"idx\": \"hit\", \"val\": 14.111804231639121}, {\"col\": \"data\", \"idx\": \"inning\", \"val\": 31.473269040777247}, {\"col\": \"data\", \"idx\": \"jeter\", \"val\": 20.184653174123635}, {\"col\": \"data\", \"idx\": \"mariano\", \"val\": 14.366463396017387}, {\"col\": \"data\", \"idx\": \"pettitte\", \"val\": 41.163285305864385}, {\"col\": \"data\", \"idx\": \"pitch\", \"val\": 16.409601564694}, {\"col\": \"data\", \"idx\": \"ray\", \"val\": 13.33506792777005}, {\"col\": \"data\", \"idx\": \"rivera\", \"val\": 68.096685219033475}, {\"col\": \"data\", \"idx\": \"rodriguez\", \"val\": 17.743523858517527}, {\"col\": \"data\", \"idx\": \"run\", \"val\": 18.193880624276336}, {\"col\": \"data\", \"idx\": \"s\", \"val\": 16.285911436893652}, {\"col\": \"data\", \"idx\": \"said\", \"val\": 17.321512415490314}, {\"col\": \"data\", \"idx\": \"season\", \"val\": 26.984248712744751}, {\"col\": \"data\", \"idx\": \"stadium\", \"val\": 14.918796337245821}, {\"col\": \"data\", \"idx\": \"yankee\", \"val\": 81.982836018894673}, {\"col\": \"data\", \"idx\": \"yankees\", \"val\": 16.420162893641457}]}], \"height\": 500, \"legends\": [], \"marks\": [{\"from\": {\"data\": \"table\"}, \"properties\": {\"enter\": {\"align\": {\"value\": \"center\"}, \"angle\": {\"field\": \"angle\"}, \"baseline\": {\"value\": \"alphabetic\"}, \"fill\": {\"field\": \"data.idx\", \"scale\": \"color\"}, \"font\": {\"field\": \"font\"}, \"fontSize\": {\"field\": \"fontSize\"}, \"text\": {\"field\": \"data.idx\"}, \"x\": {\"field\": \"x\"}, \"y\": {\"field\": \"y\"}}}, \"type\": \"text\"}], \"padding\": \"auto\", \"scales\": [{\"domain\": {\"data\": \"table\", \"field\": \"data.idx\"}, \"name\": \"color\", \"range\": \"category10\", \"type\": \"ordinal\"}], \"width\": 960}, function(chart) {\n",
        "      chart({el: \"#vis13423\"}).update();\n",
        "    });\n",
        "  };\n",
        "  _do_plot();\n",
        "})();\n"
       ],
       "metadata": {},
       "output_type": "display_data",
       "text": [
        "<IPython.core.display.Javascript at 0x11661e1d0>"
       ]
      },
      {
       "output_type": "stream",
       "stream": "stdout",
       "text": [
        "Cloud 6\n"
       ]
      },
      {
       "html": [
        "<div id=\"vis11567\"></div>"
       ],
       "metadata": {},
       "output_type": "display_data",
       "text": [
        "<IPython.core.display.HTML at 0x11661e690>"
       ]
      },
      {
       "javascript": [
        "\n",
        "( function() {\n",
        "  var _do_plot = function() {\n",
        "    if ( typeof vg == 'undefined' ) {\n",
        "      $([IPython.events]).on(\"vega_loaded.vincent\", _do_plot);\n",
        "      return;\n",
        "    }\n",
        "    vg.parse.spec({\"axes\": [], \"data\": [{\"name\": \"table\", \"transform\": [{\"font\": \"Helvetica Neue\", \"fontSize\": \"data.val\", \"rotate\": {\"random\": [-90, -60, -30, 0, 30, 60]}, \"text\": \"data.idx\", \"type\": \"wordcloud\"}], \"values\": [{\"col\": \"data\", \"idx\": \"bank\", \"val\": 24.944527095465567}, {\"col\": \"data\", \"idx\": \"china\", \"val\": 19.607995417329498}, {\"col\": \"data\", \"idx\": \"company\", \"val\": 30.543893235880443}, {\"col\": \"data\", \"idx\": \"country\", \"val\": 14.516888618427467}, {\"col\": \"data\", \"idx\": \"economy\", \"val\": 17.054681786474724}, {\"col\": \"data\", \"idx\": \"european\", \"val\": 16.534628825867269}, {\"col\": \"data\", \"idx\": \"government\", \"val\": 17.732070349701427}, {\"col\": \"data\", \"idx\": \"market\", \"val\": 23.528116269995003}, {\"col\": \"data\", \"idx\": \"million\", \"val\": 18.137433175887416}, {\"col\": \"data\", \"idx\": \"new\", \"val\": 13.897578833401381}, {\"col\": \"data\", \"idx\": \"percent\", \"val\": 43.199906013282138}, {\"col\": \"data\", \"idx\": \"price\", \"val\": 16.10547319408845}, {\"col\": \"data\", \"idx\": \"rate\", \"val\": 18.385618085223168}, {\"col\": \"data\", \"idx\": \"s\", \"val\": 22.101682724005059}, {\"col\": \"data\", \"idx\": \"said\", \"val\": 22.911765160618973}, {\"col\": \"data\", \"idx\": \"state\", \"val\": 15.092052854020638}, {\"col\": \"data\", \"idx\": \"the\", \"val\": 23.930147497303132}, {\"col\": \"data\", \"idx\": \"would\", \"val\": 14.687786972922034}, {\"col\": \"data\", \"idx\": \"year\", \"val\": 20.700469794464784}]}], \"height\": 500, \"legends\": [], \"marks\": [{\"from\": {\"data\": \"table\"}, \"properties\": {\"enter\": {\"align\": {\"value\": \"center\"}, \"angle\": {\"field\": \"angle\"}, \"baseline\": {\"value\": \"alphabetic\"}, \"fill\": {\"field\": \"data.idx\", \"scale\": \"color\"}, \"font\": {\"field\": \"font\"}, \"fontSize\": {\"field\": \"fontSize\"}, \"text\": {\"field\": \"data.idx\"}, \"x\": {\"field\": \"x\"}, \"y\": {\"field\": \"y\"}}}, \"type\": \"text\"}], \"padding\": \"auto\", \"scales\": [{\"domain\": {\"data\": \"table\", \"field\": \"data.idx\"}, \"name\": \"color\", \"range\": \"category10\", \"type\": \"ordinal\"}], \"width\": 960}, function(chart) {\n",
        "      chart({el: \"#vis11567\"}).update();\n",
        "    });\n",
        "  };\n",
        "  _do_plot();\n",
        "})();\n"
       ],
       "metadata": {},
       "output_type": "display_data",
       "text": [
        "<IPython.core.display.Javascript at 0x11661e710>"
       ]
      }
     ],
     "prompt_number": 67
    },
    {
     "cell_type": "code",
     "collapsed": false,
     "input": [],
     "language": "python",
     "metadata": {},
     "outputs": []
    },
    {
     "cell_type": "code",
     "collapsed": false,
     "input": [
      "print H.shape[0]"
     ],
     "language": "python",
     "metadata": {},
     "outputs": [
      {
       "output_type": "stream",
       "stream": "stdout",
       "text": [
        "7\n"
       ]
      }
     ],
     "prompt_number": 53
    },
    {
     "cell_type": "code",
     "collapsed": false,
     "input": [
      "data.headline"
     ],
     "language": "python",
     "metadata": {},
     "outputs": [
      {
       "metadata": {},
       "output_type": "pyout",
       "prompt_number": 109,
       "text": [
        "0     Week 5 Probabilities: Why Offense Is More Impo...\n",
        "1                      New Immigration Bill Put Forward\n",
        "2     Arizona: Judge Orders Monitor to Oversee Maric...\n",
        "3     Texas: State Bought Execution Drugs From a Com...\n",
        "4                         Nadal on Track for No. 1 Spot\n",
        "5                 Judge Halts Work on World Cup Stadium\n",
        "6               Bayern Munich Dominates Manchester City\n",
        "7         American Leads in World Gymnastics All-Around\n",
        "8                      Brodeur\u2019s Starting Streak to End\n",
        "9                            Vonn Is Close to Returning\n",
        "10          Whitney Winner Out of Breeders\u2019 Cup Classic\n",
        "11    Eight Are Killed in Tennessee After Tire Blows...\n",
        "12              Fuel From Landfill Methane Goes on Sale\n",
        "13    On Fashion Runway, South Sudan Takes Steps Tow...\n",
        "14           Preparing Teachers for the Urban Classroom\n",
        "...\n",
        "1390                     Pirates and Reds Renew a Rivalry\n",
        "1391                          The Rut We Can\u2019t Get Out Of\n",
        "1392                                    Beyond Berlusconi\n",
        "1393    Mixed Opening Lines in Knicks\u2019 Courtship of An...\n",
        "1394    Two Marine Corps Generals Are Forced to Retire...\n",
        "1395         Obama\u2019s Remarks on the Budget and Health Law\n",
        "1396    Defining and Demanding a Musician\u2019s Fair Shake...\n",
        "1397    Britain Plans to Require Community Service for...\n",
        "1398    Old Atrocities, Now Official, Galvanize Afghan...\n",
        "1399    Discussing Iran, Obama and Netanyahu Display U...\n",
        "1400              Government Shuts Down in Budget Impasse\n",
        "1401                              The White Gold of Jihad\n",
        "1402         Once-Calm Area of Iraq Is Shaken by Bombings\n",
        "1403    A Wave of Sewing Jobs as Orders Pile Up at U.S...\n",
        "1404                         Can Wendy Davis Have It All?\n",
        "Name: headline, Length: 1405, dtype: object"
       ]
      }
     ],
     "prompt_number": 109
    },
    {
     "cell_type": "code",
     "collapsed": false,
     "input": [
      "#SVD start w movie data\n",
      "# unames = ['user_id', 'age','gender', 'occupation', 'zip']\n",
      "# users = pd.read_table('../ml-1m/u.user',\n",
      "#                       sep='::', header=None, names=unames)\n",
      "\n",
      "rnames = ['user_id', 'movie_id', 'rating', 'timestamp']\n",
      "ratings = pd.read_table('./ml-100k/u.data',\n",
      "                        sep='\\t', header=None, names=rnames)\n",
      "\n",
      "# mnames = ['movie_id', 'title', 'release date']\n",
      "# movies = pd.read_table('../ml-1m/movies.dat',\n",
      "#                        sep='::', header=None, names=mnames)\n",
      "\n",
      "# show how one of them looks\n",
      "ratings = ratings[['user_id', 'movie_id', 'rating']]\n",
      "print ratings.head(5)"
     ],
     "language": "python",
     "metadata": {},
     "outputs": [
      {
       "output_type": "stream",
       "stream": "stdout",
       "text": [
        "   user_id  movie_id  rating\n",
        "0      196       242       3\n",
        "1      186       302       3\n",
        "2       22       377       1\n",
        "3      244        51       2\n",
        "4      166       346       1\n"
       ]
      },
      {
       "output_type": "stream",
       "stream": "stderr",
       "text": [
        "/Users/willow/anaconda/lib/python2.7/site-packages/pandas/core/config.py:570: DeprecationWarning: height has been deprecated.\n",
        "\n",
        "  warnings.warn(d.msg, DeprecationWarning)\n"
       ]
      }
     ],
     "prompt_number": 79
    },
    {
     "cell_type": "code",
     "collapsed": false,
     "input": [
      "mean_ratings = ratings.pivot_table('rating', rows='user_id', cols='movie_id', aggfunc='mean')\n",
      "print mean_ratings.shape # same as M\n",
      "print ratings.shape\n"
     ],
     "language": "python",
     "metadata": {},
     "outputs": [
      {
       "output_type": "stream",
       "stream": "stdout",
       "text": [
        "(943, 1682)\n",
        "(100000, 3)\n"
       ]
      }
     ],
     "prompt_number": 96
    },
    {
     "cell_type": "code",
     "collapsed": false,
     "input": [
      "users = ratings.groupby('user_id').size()\n",
      "print users.shape "
     ],
     "language": "python",
     "metadata": {},
     "outputs": [
      {
       "output_type": "stream",
       "stream": "stdout",
       "text": [
        "(943,)\n"
       ]
      }
     ],
     "prompt_number": 101
    },
    {
     "cell_type": "code",
     "collapsed": false,
     "input": [
      "movies = ratings.groupby('movie_id').size()\n",
      "print movies.shape"
     ],
     "language": "python",
     "metadata": {},
     "outputs": [
      {
       "output_type": "stream",
       "stream": "stdout",
       "text": [
        "(1682,)\n"
       ]
      }
     ],
     "prompt_number": 175
    },
    {
     "cell_type": "code",
     "collapsed": false,
     "input": [
      "print mean_ratings[1][3]"
     ],
     "language": "python",
     "metadata": {},
     "outputs": [
      {
       "output_type": "stream",
       "stream": "stdout",
       "text": [
        "0.0\n"
       ]
      }
     ],
     "prompt_number": 173
    },
    {
     "cell_type": "code",
     "collapsed": false,
     "input": [
      "mean_ratings= mean_ratings.fillna(0)\n",
      "print mean_ratings[1]"
     ],
     "language": "python",
     "metadata": {},
     "outputs": [
      {
       "output_type": "stream",
       "stream": "stdout",
       "text": [
        "user_id\n",
        "1          5\n",
        "2          4\n",
        "3          0\n",
        "4          0\n",
        "5          4\n",
        "6          4\n",
        "7          0\n",
        "8          0\n",
        "9          0\n",
        "10         4\n",
        "11         0\n",
        "12         0\n",
        "13         3\n",
        "14         0\n",
        "15         1\n",
        "...\n",
        "929        3\n",
        "930        3\n",
        "931        0\n",
        "932        4\n",
        "933        3\n",
        "934        2\n",
        "935        3\n",
        "936        4\n",
        "937        0\n",
        "938        4\n",
        "939        0\n",
        "940        0\n",
        "941        5\n",
        "942        0\n",
        "943        0\n",
        "Name: 1, Length: 943, dtype: float64\n"
       ]
      }
     ],
     "prompt_number": 117
    },
    {
     "cell_type": "code",
     "collapsed": false,
     "input": [
      "M = np.array(mean_ratings)\n",
      "print M.shape"
     ],
     "language": "python",
     "metadata": {},
     "outputs": [
      {
       "output_type": "stream",
       "stream": "stdout",
       "text": [
        "(943, 1682)\n"
       ]
      }
     ],
     "prompt_number": 118
    },
    {
     "cell_type": "code",
     "collapsed": false,
     "input": [
      "svd = decomposition.TruncatedSVD(n_components=100)"
     ],
     "language": "python",
     "metadata": {},
     "outputs": [],
     "prompt_number": 133
    },
    {
     "cell_type": "code",
     "collapsed": false,
     "input": [
      "svd_fit = svd.fit(M)"
     ],
     "language": "python",
     "metadata": {},
     "outputs": [],
     "prompt_number": 134
    },
    {
     "cell_type": "code",
     "collapsed": false,
     "input": [
      "svd_fit.transform"
     ],
     "language": "python",
     "metadata": {},
     "outputs": [],
     "prompt_number": 132
    },
    {
     "cell_type": "code",
     "collapsed": false,
     "input": [
      "U, s, V = np.linalg.svd(M)\n",
      "print s.shape"
     ],
     "language": "python",
     "metadata": {},
     "outputs": [
      {
       "output_type": "stream",
       "stream": "stdout",
       "text": [
        "(943,)\n"
       ]
      }
     ],
     "prompt_number": 142
    },
    {
     "cell_type": "code",
     "collapsed": false,
     "input": [
      "total = sum(s**2)\n",
      "print sum(s[:272]**2)/total"
     ],
     "language": "python",
     "metadata": {},
     "outputs": [
      {
       "output_type": "stream",
       "stream": "stdout",
       "text": [
        "0.900242407259\n"
       ]
      }
     ],
     "prompt_number": 153
    },
    {
     "cell_type": "code",
     "collapsed": false,
     "input": [
      "U_tilda= U[:,:272]\n",
      "print U_tilda.shape"
     ],
     "language": "python",
     "metadata": {},
     "outputs": [
      {
       "output_type": "stream",
       "stream": "stdout",
       "text": [
        "(943, 272)\n"
       ]
      }
     ],
     "prompt_number": 159
    },
    {
     "cell_type": "code",
     "collapsed": false,
     "input": [
      "V_tilda = V[:272,] # v returned was transposed\n",
      "print V_tilda.shape"
     ],
     "language": "python",
     "metadata": {},
     "outputs": [
      {
       "output_type": "stream",
       "stream": "stdout",
       "text": [
        "(272, 1682)\n"
       ]
      }
     ],
     "prompt_number": 163
    },
    {
     "cell_type": "code",
     "collapsed": false,
     "input": [
      "S_tilda = np.diag(s[:272])\n",
      "print S_tilda.shape"
     ],
     "language": "python",
     "metadata": {},
     "outputs": [
      {
       "output_type": "stream",
       "stream": "stdout",
       "text": [
        "(272, 272)\n"
       ]
      }
     ],
     "prompt_number": 166
    },
    {
     "cell_type": "code",
     "collapsed": false,
     "input": [
      "M_tilda = np.dot(np.dot(U_tilda, S_tilda), V_tilda)"
     ],
     "language": "python",
     "metadata": {},
     "outputs": [],
     "prompt_number": 168
    },
    {
     "cell_type": "code",
     "collapsed": false,
     "input": [
      "M_tilda.shape"
     ],
     "language": "python",
     "metadata": {},
     "outputs": [
      {
       "metadata": {},
       "output_type": "pyout",
       "prompt_number": 169,
       "text": [
        "(943, 1682)"
       ]
      }
     ],
     "prompt_number": 169
    },
    {
     "cell_type": "code",
     "collapsed": false,
     "input": [
      "M_tilda[1][3]"
     ],
     "language": "python",
     "metadata": {},
     "outputs": [
      {
       "metadata": {},
       "output_type": "pyout",
       "prompt_number": 174,
       "text": [
        "-0.46764251396090684"
       ]
      }
     ],
     "prompt_number": 174
    },
    {
     "cell_type": "code",
     "collapsed": false,
     "input": [],
     "language": "python",
     "metadata": {},
     "outputs": []
    }
   ],
   "metadata": {}
  }
 ]
}